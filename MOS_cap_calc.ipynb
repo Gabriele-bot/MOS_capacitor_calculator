{
 "cells": [
  {
   "cell_type": "code",
   "execution_count": 1,
   "id": "07519ec0",
   "metadata": {},
   "outputs": [],
   "source": [
    "import numpy as np\n",
    "import matplotlib.pyplot as plt\n",
    "import matplotlib as mpl\n",
    "from scipy.integrate import quad\n",
    "from scipy.integrate import simps\n",
    "from scipy.interpolate import interp1d\n",
    "from scipy import constants\n",
    "# The 'inline' statement keeps the plot windows from showing up as\n",
    "# independent windows.  Instead, they show up in the notebook.\n",
    "%matplotlib inline\n",
    "# make all lines have this thickness by default\n",
    "mpl.rcParams['lines.linewidth'] = 2\n",
    "# set a default figure size\n",
    "mpl.rcParams['figure.figsize'] = (8, 5)\n",
    "\n",
    "plt.rc('text', usetex=True)\n",
    "plt.rc('font', family='serif')\n",
    "plt.rc('font', size=16)          # controls default text sizes\n",
    "plt.rc('axes', titlesize=18)     # fontsize of the axes title\n",
    "plt.rc('axes', labelsize=16)     # fontsize of the x and y labels\n",
    "plt.rc('xtick', labelsize=12)    # fontsize of the tick labels\n",
    "plt.rc('ytick', labelsize=12)    # fontsize of the tick labels\n",
    "plt.rc('legend', fontsize=14)    # legend fontsize\n",
    "plt.rc('figure', titlesize=18)   # fontsize of the figure title\n",
    "\n",
    "# -----------------------\n",
    "# user-defined settings\n",
    "# -----------------------\n",
    "T = 300 # lattice temperature, Kelvin\n",
    "tox = 10e-9 * 100 # nm oxide converted to cm\n",
    "Nd = 1e10 # donor doping concentration, # / cm^3\n",
    "Na = 1e16 # acceptor doping concentration, # / cm^3\n",
    "CBO = 3.5 # SiO2/Si conduction band offset, eV\n",
    "VBO = 4.4 # SiO2/Si valence band offset, eV\n",
    "\n",
    "# -----------------------\n",
    "# physical constants\n",
    "# -----------------------\n",
    "e0 = constants.epsilon_0 / 100 # permittivity of free space, F / cm\n",
    "q = constants.e # elementary charge, Coulombs\n",
    "k = constants.k/q # Boltzmann constant, eV / K\n",
    "\n",
    "# -----------------------\n",
    "# material parameters \n",
    "# -----------------------\n",
    "es  = 11.7 # relative permittivity, silicon\n",
    "eox = 3.9  # relative permittivity, SiO2\n",
    "chi_s  = 4.05 # electron affinity, silicon, eV\n",
    "phi_m  = 4.3  # metal work function, eV\n",
    "chi_ox = 0.95 # SiO2 electron affinity\n",
    "Eg_ox  = 8    # SiO2 silicon-like bandgap\n",
    "# bandgap, silicon, eV\n",
    "#Eg = 1.17 - 4.73e-4 * T ** 2 / (T + 636.0)\n",
    "Eg = 1.12\n",
    "# effective valence band DOS, silicon, # / cm^3\n",
    "#Nv = 3.5e15 * T ** 1.5\n",
    "Nv = 1.04e19*(T/300)**(1.5)\n",
    "# effective conduction band DOS, silicon, # / cm^3\n",
    "#Nc = 6.2e15 * T ** 1.5\n",
    "Nc=2.89e19*(T/300)**(1.5)\n",
    "\n",
    "def solve_bisection(func, target, xmin, xmax):\n",
    "    \"\"\"\n",
    "    Returns the independent value x satisfying func(x)=value.\n",
    "    - uses the bisection search method\n",
    "      https://en.wikipedia.org/wiki/Bisection_method\n",
    "\n",
    "    Arguments:\n",
    "        func - callable function of a single independent variable\n",
    "        target - the value func(x) should equal\n",
    "        [xmin, xmax] - the range over which x can exist\n",
    "    \"\"\"\n",
    "    tol = 1e-15 # when |a - b| <= tol, quit searching\n",
    "    max_iters = 5e3 # maximum number of iterations\n",
    "    a = xmin\n",
    "    b = xmax\n",
    "    cnt = 1\n",
    "    # before entering while(), calculate Fa\n",
    "    Fa = target - func(a)\n",
    "    c = a\n",
    "\n",
    "    # bisection search loop\n",
    "    while np.abs(a - b) > tol and cnt < max_iters:\n",
    "        cnt += 1\n",
    "        # make 'c' be the midpoint between 'a' and 'b'\n",
    "        c = (a + b) / 2.0\n",
    "        # calculate at the new 'c'\n",
    "        Fc = target - func(c)\n",
    "\n",
    "        if Fc == 0:\n",
    "            # 'c' was the sought-after solution, so quit\n",
    "            break\n",
    "        elif np.sign(Fa) == np.sign(Fc):\n",
    "            # the signs were the same, so modify 'a'\n",
    "            a = c\n",
    "            Fa = Fc\n",
    "        else:\n",
    "            # the signs were different, so modify 'b'\n",
    "            b = c\n",
    "\n",
    "    if cnt == max_iters:\n",
    "        print('WARNING: max iterations reached')\n",
    "\n",
    "    return c\n",
    "\n",
    "# -----------------------\n",
    "# dependent calculations\n",
    "# -----------------------\n",
    "# intrinsic carrier concentration, silicon, # / cm^3\n",
    "#ni = np.sqrt(Nc * Nv) * np.exp(-Eg / (2 * k * T))\n",
    "ni = 1.45e10\n",
    "# Energy levels are relative to one-another in charge expressions.\n",
    "# - Therefore, it is OK to set Ev to a reference value of 0 eV.\n",
    "# Usually, energy levels are given in Joules and one converts to eV.\n",
    "# - I have just written each in eV to save time.\n",
    "Ev = 0 # valence band energy level\n",
    "Ec = Eg # conduction band energy level\n",
    "E0 = Ec + chi_s # vacuum energy\n",
    "Ei = Eg/2 + k * T * np.log(Nv / Nc) # intrinsic energy level\n",
    "#Ei = 0.560\n",
    "phit = k * T  # thermal voltage, eV\n",
    "# get the Fermi level in the bulk where there is no band-bending\n",
    "n = lambda Ef: Nc * np.exp((-Ec + Ef) / phit)\n",
    "p = lambda Ef: Nv * np.exp((Ev - Ef) / phit)\n",
    "func = lambda Ef: p(Ef) - n(Ef) + Nd - Na\n",
    "Ef = solve_bisection(func, 0, Ev, Ec)\n",
    "# oxide capacitance per unit area, F / cm^2\n",
    "Coxp = eox * e0 / tox    \n",
    "# if both Nd and Na are zero, then make one slightly higher\n",
    "# calculate effective compensated doping densities\n",
    "# - assume complete ionization\n",
    "if Na > Nd:\n",
    "    Na = Na - Nd\n",
    "    Nd = 0\n",
    "    # compute semiconductor work function (energy from vacuum to Ef)\n",
    "    phi_s = chi_s + Eg/2 + k * T * np.log(Na/ni)\n",
    "    # flatband voltage and its constituent(s)\n",
    "    # - no defect-related charges considered\n",
    "    phi_ms = phi_m - phi_s # metal-semiconductor workfunction, eV\n",
    "    Vfb = phi_ms # flatband voltage, V\n",
    "    phi_p = - k * T * np.log((Na-Nd)/(ni))\n",
    "    Vth =  Vfb + 2*np.abs(phi_p) + np.sqrt(2*es*e0*q*Na*2*np.abs(phi_p))/Coxp\n",
    "    gamma = (np.sqrt(2 * es * e0 * q * Na)) / (Coxp)\n",
    "    if (1-(4*Vfb)/(gamma**2)) >= 0:\n",
    "        xd0 = (es * e0) / (Coxp) * (np.sqrt(1-(4*Vfb)/(gamma**2))-1)\n",
    "    else:\n",
    "        xd0 = 0\n",
    "        \n",
    "    LD = np.sqrt((es*e0*phit)/(q*Na))\n",
    "    xdM = np.sqrt((2 * es * e0 * 2 * np.abs(phi_p))/(q * Na))\n",
    "    device_type = 'nMOS'\n",
    "else:\n",
    "    Nd = Nd - Na\n",
    "    Na = 0\n",
    "    # compute semiconductor work function (energy from vacuum to Ef)\n",
    "    phi_s = chi_s + Eg/2 - k * T * np.log(Nd/ni)\n",
    "    # flatband voltage and its constituent(s)\n",
    "    # - no defect-related charges considered\n",
    "    phi_ms = phi_m - phi_s # metal-semiconductor workfunction, eV\n",
    "    Vfb = phi_ms # flatband voltage, V\n",
    "    phi_n = k * T *np.log((Nd-Na)/(ni))\n",
    "    Vth =  Vfb - 2*np.abs(phi_n) - np.sqrt(2*es*e0*q*Nd*2*np.abs(phi_n))/Coxp\n",
    "    \n",
    "    gamma = (np.sqrt(2 * es * e0 * q * Nd)) / (Coxp)\n",
    "    if (1+(4*Vfb)/(gamma**2)) >= 0:\n",
    "        xd0 = (es * e0) / (Coxp) * (np.sqrt(1+(4*Vfb)/(gamma**2))-1)\n",
    "    else:\n",
    "        xd0 = 0\n",
    "        \n",
    "    LD = np.sqrt((es*e0*phit)/(q*Nd))\n",
    "    xdM = np.sqrt((2 * es * e0 * 2 * np.abs(phi_n))/(q * Nd))\n",
    "    device_type = 'pMOS'\n",
    "\n",
    "# oxide capacitance per unit area, F / cm^2\n",
    "Coxp = eox * e0 / tox    \n",
    "\n",
    "# -----------------------\n",
    "# define the SPE\n",
    "# -----------------------\n",
    "# compute equilibrium carrier concentrations\n",
    "n_o = Nc * np.exp((-Ec + Ef) / phit)\n",
    "p_o = Nv * np.exp((Ev - Ef) / phit)\n",
    "# define the charge function so it can be used in the SPE\n",
    "f = lambda psis: psis * (Na - Nd) \\\n",
    "  + phit * p_o * (np.exp(-psis / phit) - 1) \\\n",
    "  + phit * n_o * (np.exp(psis / phit) - 1)\n",
    "Qs = lambda psis: -np.sign(psis) * np.sqrt(2 * q * e0 * es * f(psis))\n",
    "SPE = lambda psis: Vfb + psis - Qs(psis) / Coxp\n",
    "# define the electric field for use in computing y(psi)\n",
    "E = lambda psi: np.sign(psi) * np.sqrt(2 * q / (es * e0) * f(psi))"
   ]
  },
  {
   "cell_type": "code",
   "execution_count": 2,
   "id": "e229f2fe",
   "metadata": {},
   "outputs": [
    {
     "name": "stdout",
     "output_type": "stream",
     "text": [
      "Vth = 0.1767 V\n",
      "Vfb = -0.6576 V\n",
      "gamma = 0.1668 sqrt(V)\n",
      "phip = -0.3476 V\n",
      "xd0 = 263.1 nm\n",
      "LD = 40.88 nm\n",
      "xd_max = 299.8 nm\n"
     ]
    }
   ],
   "source": [
    "print('Vth = %0.4g V'   % (Vth))\n",
    "print('Vfb = %0.4g V'   % (Vfb))\n",
    "print('gamma = %0.4g sqrt(V)'   % (gamma))\n",
    "if device_type == \"nMOS\":\n",
    "    print('phip = %0.4g V'  % (phi_p))\n",
    "else:\n",
    "    print('phin = %0.4g V'  % (phi_n))\n",
    "print ('xd0 = %0.4g nm'  % (xd0*1e7))\n",
    "print ('LD = %0.4g nm'  % (LD*1e7))\n",
    "print ('xd_max = %0.4g nm'  % (xdM*1e7))\n"
   ]
  },
  {
   "cell_type": "code",
   "execution_count": 3,
   "id": "4ad40443",
   "metadata": {},
   "outputs": [],
   "source": [
    "# -----------------------\n",
    "# y-computation functions\n",
    "# -----------------------\n",
    "# this is the integrand needed to compute y\n",
    "integrand_y = lambda psi: 1 / E(psi)\n",
    "\n",
    "def compute_y_vs_psi(psis):\n",
    "    \"\"\"\n",
    "    This function creates a 'psi' variable ranging from psis to ~zero.\n",
    "    It then computes the y-values corresponding to every value in psi.\n",
    "\n",
    "    psis is the surface potential and must be a scalar constant.\n",
    "    \"\"\"\n",
    "    # handle the flatband case\n",
    "    if psis == 0:\n",
    "        y = np.linspace(0, 150, 1001) * 1e-7 # convert nm to cm\n",
    "        psi = 0 * y\n",
    "        return y, psi\n",
    "    # (1) let semiconductor potential range from psis to near-zero\n",
    "    # - could construct psi linearly and have a coarse y as psi -> 0\n",
    "    # - could construct psi log-spaced to make y more evenly spaced\n",
    "    # - solution: do a mixture \n",
    "    psi1 = np.linspace(psis, psis * 0.5, 121) # linear spacing near y=0\n",
    "    psi2 = np.logspace(                      # log spacing toward bulk\n",
    "        np.log10(np.abs(psis * 0.5)), \n",
    "        np.log10(np.abs(psis * 1.75e-4)), \n",
    "        1001\n",
    "    )\n",
    "    if psis < 0:\n",
    "        psi2 = -1 * psi2\n",
    "    # combine the arrays, but leave out the common point (psis * 0.5)\n",
    "    psi = np.hstack((psi1, psi2[1:]))\n",
    "    # (2) call compute_y() at every value in psi\n",
    "    # collect the returned y-values in an array\n",
    "    y = np.array([])\n",
    "    for value in psi:\n",
    "        y_current, error = quad(integrand_y, value, psis)\n",
    "        y = np.hstack((y, y_current))\n",
    "    return y, psi"
   ]
  },
  {
   "cell_type": "code",
   "execution_count": 4,
   "id": "7ae9904b",
   "metadata": {},
   "outputs": [
    {
     "name": "stdout",
     "output_type": "stream",
     "text": [
      "Vgb = -8.604e-16 V\n",
      "Vth = 0.1767 V\n",
      "Vfb = -0.6576 V\n",
      "Vox = 0.1194 V\n",
      "psis = 0.5381 V\n",
      "phip = -0.3476 V\n",
      "xd = 263.8 nm\n",
      "xd_max = 299.8 nm\n"
     ]
    },
    {
     "data": {
      "image/png": "[encoded data removed]",
      "text/plain": [
       "<Figure size 576x360 with 1 Axes>"
      ]
     },
     "metadata": {
      "needs_background": "light"
     },
     "output_type": "display_data"
    }
   ],
   "source": [
    "if device_type == \"nMOS\":\n",
    "    phi  = phi_p\n",
    "    Nsub = Na\n",
    "else:\n",
    "    phi = phi_n\n",
    "    Nsub = Nd\n",
    "# -----------------------\n",
    "# choose a potential to plot\n",
    "# -----------------------\n",
    "#psis = Ev - Ef                    # (very) strong accumulation\n",
    "#psis = 0                          # flatband\n",
    "# psis = Ei - Ef                    # weak inversion\n",
    "#psis = 2 * (-phi)              # strong inversion \n",
    "#psis = 2 * (Ei - Ef) + 3 * phit   # stronger inversion\n",
    "#psis = Ec - Ef                    # (very) strong inversion\n",
    "psis = solve_bisection(           # zero gate-bulk bias\n",
    "    SPE, 0, Ev - Ef, Ec - Ef\n",
    ")\n",
    "#psis = 0.93\n",
    "\n",
    "# compute the corresponding Vgb value\n",
    "Vgb = SPE(psis)\n",
    "\n",
    "# create figure, label axes, turn grid on\n",
    "plt.figure(1)\n",
    "plt.title(\"Energy band diagram\")\n",
    "plt.xlabel('x [nm]')\n",
    "plt.ylabel('Energy [eV]')\n",
    "plt.grid(True)\n",
    "\n",
    "# get psiox from the potential balance equation (see SPE derivation)\n",
    "psiox = Vgb - psis - phi_ms\n",
    "\n",
    "# construct the psi vs y curve\n",
    "y, psi = compute_y_vs_psi(psis)\n",
    "# y and tox are in cm, so convert to nm\n",
    "y = y / 100 * 1e9\n",
    "toxnm = tox / 100 * 1e9\n",
    "\n",
    "# plot the conduction/intrinsic/valence bands/vacuum\n",
    "plt.plot(y, Ev - psi, 'g'  , label=\"$E_v$\")\n",
    "plt.plot(y, Ei - psi, 'b--', label=\"$E_i$\")\n",
    "plt.plot(y, Ec - psi, 'k'  , label=\"$E_c$\")\n",
    "plt.plot(y, E0 - psi, 'c'  , label=\"$E_0$\")\n",
    "\n",
    "# plot the fermi level\n",
    "plt.plot(y, 0 * y + Ef, 'b',  label=\"$E_f$\")\n",
    "\n",
    "# plot the SiO2 bands\n",
    "plt.plot([0, 0], [E0 - chi_ox - psis , E0 - chi_ox - psis - Eg_ox], 'r')\n",
    "plt.plot(\n",
    "    [-toxnm, -toxnm], \n",
    "    [E0 - chi_ox - psis - psiox , E0 - chi_ox - psis - Eg_ox - psiox], \n",
    "    'r'\n",
    ")\n",
    "\n",
    "\n",
    "#plt.plot([0, 0], [Ev - psis - VBO, Ec - psis + CBO], 'r')\n",
    "#plt.plot(\n",
    "#    [-toxnm, -toxnm], \n",
    "#    [Ev - psis - VBO - psiox, Ec - psis + CBO - psiox], \n",
    "#    'r'\n",
    "#)\n",
    "\n",
    "plt.plot([-toxnm, 0], [E0 - psis - psiox, E0 - psis], 'c')\n",
    "plt.plot([-toxnm, 0], [E0 - chi_ox - psis - psiox, E0 - chi_ox - psis], 'r')\n",
    "plt.plot([-toxnm, 0], [E0 - chi_ox - psis - Eg_ox - psiox, E0 - chi_ox - psis - Eg_ox], 'r')\n",
    "\n",
    "# plot the vacuum energy on metal side\n",
    "plt.plot(\n",
    "    [-toxnm - xdM/200*1e9, -toxnm], \n",
    "    [Ef - phi_ms - psis - psiox + phi_m, Ef - phi_ms - psis - psiox + phi_m],\n",
    "    'c'\n",
    ")\n",
    "\n",
    "# plot the gate's Fermi level\n",
    "plt.plot(\n",
    "    [-toxnm - xdM/200*1e9, -toxnm], \n",
    "    [Ef - phi_ms - psis - psiox, Ef - phi_ms - psis - psiox],\n",
    "    'b'\n",
    ")\n",
    "\n",
    "if device_type == \"nMOS\":\n",
    "    if psis<0:\n",
    "        xd=0\n",
    "    else:\n",
    "        xd = np.sqrt((2 * es * e0 * np.abs(psis))/(q * Nsub))\n",
    "else:\n",
    "    if psis>0:\n",
    "        xd=0\n",
    "    else:\n",
    "        xd = np.sqrt((2 * es * e0 * np.abs(psis))/(q * Nsub))\n",
    "\n",
    "# plot relevant x poxitions\n",
    "plt.axvline(x=-tox*1e7, color='r', linestyle='--')\n",
    "if xd != 0:\n",
    "    plt.axvline(x=xd*1e7, color='k', linestyle='--')\n",
    "else:\n",
    "    plt.axvline(x=LD*1e7, color='k', linestyle='--')\n",
    "plt.axvline(x=xdM*1e7, color='m', linestyle='--')\n",
    "ax = plt.gca()\n",
    "plt.text(-tox*1e7, -.07, '$-t_ox$', color='r', transform=ax.get_xaxis_transform(), ha='center', va='top')\n",
    "if xd != 0:\n",
    "    plt.text(xd*1e7, -.07, '$x_d$', color='k', transform=ax.get_xaxis_transform(), ha='right', va='top')\n",
    "else:\n",
    "    plt.text(LD*1e7, -.02, '$L_D$', color='k', transform=ax.get_xaxis_transform(), ha='left', va='top')\n",
    "plt.text(xdM*1e7, -.07, '$x_{d(max)}$', color='m', transform=ax.get_xaxis_transform(), ha='left', va='top')\n",
    "\n",
    "plt.legend()\n",
    "\n",
    "plt.savefig(\"Images/Energy_band.pdf\")\n",
    "\n",
    "print('Vgb = %0.4g V'   % (Vgb))\n",
    "print('Vth = %0.4g V'   % (Vth))\n",
    "print('Vfb = %0.4g V'   % (Vfb))\n",
    "print('Vox = %0.4g V' % (psiox))\n",
    "print('psis = %0.4g V'  % (psis))\n",
    "if device_type == \"nMOS\":\n",
    "    print('phip = %0.4g V'  % (phi_p))\n",
    "else:\n",
    "    print('phin = %0.4g V'  % (phi_n))\n",
    "print ('xd = %0.4g nm'  % (xd*1e7))\n",
    "print ('xd_max = %0.4g nm'  % (xdM*1e7))"
   ]
  },
  {
   "cell_type": "markdown",
   "id": "fd5b599a",
   "metadata": {},
   "source": [
    "# Charge plots (\"exact\")"
   ]
  },
  {
   "cell_type": "code",
   "execution_count": 5,
   "id": "3be9e865",
   "metadata": {},
   "outputs": [
    {
     "data": {
      "image/png": "[encoded data removed]",
      "text/plain": [
       "<Figure size 576x360 with 1 Axes>"
      ]
     },
     "metadata": {
      "needs_background": "light"
     },
     "output_type": "display_data"
    },
    {
     "data": {
      "image/png": "[encoded data removed]",
      "text/plain": [
       "<Figure size 576x360 with 2 Axes>"
      ]
     },
     "metadata": {
      "needs_background": "light"
     },
     "output_type": "display_data"
    },
    {
     "data": {
      "text/plain": [
       "<Figure size 576x360 with 0 Axes>"
      ]
     },
     "metadata": {},
     "output_type": "display_data"
    }
   ],
   "source": [
    "if xdM <= tox:\n",
    "    xlim = 10*tox\n",
    "else:\n",
    "    xlim = xdM\n",
    "\n",
    "# define the components of rho\n",
    "n = n_o * np.exp(psi / phit)\n",
    "p = p_o * np.exp(-psi / phit)\n",
    "rho_by_q = p - n + Nd - Na\n",
    "rho = rho_by_q * q\n",
    "\n",
    "# plot the components of rho\n",
    "plt.figure(2)\n",
    "plt.xlabel('x [nm]', fontsize=14)\n",
    "plt.ylabel('[cm$^{-3}$]', fontsize=14)\n",
    "plt.grid(True)\n",
    "plt.semilogy(y, n, label='n', linewidth=2)\n",
    "plt.semilogy(y, p, label='p', linewidth=2)\n",
    "if device_type == 'nMOS':\n",
    "    plt.semilogy(y, Na + 0 * y, label='$N_a$')\n",
    "else:\n",
    "    plt.semilogy(y, Nd + 0 * y, label='$N_d$')\n",
    "plt.legend(loc='best', prop={'size': 16})\n",
    "\n",
    "# show magnitude of rho on a log scale\n",
    "plt.figure(3)\n",
    "plt.title(\"Charge density\")\n",
    "plt.xlabel('x [nm]')\n",
    "plt.ylabel('$\\\\rho$ [C cm$^{-3}$]')\n",
    "plt.grid(True)\n",
    "plt.plot(y, (rho),'b', label='$\\\\rho/q$')\n",
    "\n",
    "# plot relevant x poxitions\n",
    "if xd != 0:\n",
    "    plt.axvline(x=xd*1e7, color='k', linestyle='--')\n",
    "else:\n",
    "    plt.axvline(x=LD*1e7, color='k', linestyle='--')\n",
    "plt.axvline(x=xdM*1e7, color='m', linestyle='--')\n",
    "ax = plt.gca()\n",
    "if xd != 0:\n",
    "    plt.text(xd*1e7, -.01, '$x_d$', color='k', transform=ax.get_xaxis_transform(), ha='right', va='top')\n",
    "else:\n",
    "    plt.text(LD*1e7, -.01, '$L_D$', color='k', transform=ax.get_xaxis_transform(), ha='left', va='top')\n",
    "plt.text(xdM*1e7, -.05, '$x_{d(max)}$', color='m', transform=ax.get_xaxis_transform(), ha='left', va='top')\n",
    "\n",
    "ax2 = ax.twinx()  # instantiate a second axes that shares the same x-axis\n",
    "\n",
    "ax2.set_ylabel('$cm^{-3}$')  #\n",
    "ax2.plot(y, rho_by_q )\n",
    "ax2.tick_params(axis='y')\n",
    "\n",
    "plt.show()\n",
    "\n",
    "plt.savefig(\"Images/Charge_desity.pdf\")"
   ]
  },
  {
   "cell_type": "markdown",
   "id": "39ce914d",
   "metadata": {},
   "source": [
    "# Electric field"
   ]
  },
  {
   "cell_type": "code",
   "execution_count": 6,
   "id": "17a27127",
   "metadata": {},
   "outputs": [
    {
     "data": {
      "image/png": "[encoded data removed]",
      "text/plain": [
       "<Figure size 576x360 with 1 Axes>"
      ]
     },
     "metadata": {
      "needs_background": "light"
     },
     "output_type": "display_data"
    },
    {
     "data": {
      "text/plain": [
       "<Figure size 576x360 with 0 Axes>"
      ]
     },
     "metadata": {},
     "output_type": "display_data"
    }
   ],
   "source": [
    "if xd != 0:\n",
    "    y_m    = np.linspace(-xlim/2*1e7,-tox*1e7,200)\n",
    "else:\n",
    "    y_m    = np.linspace(-11*tox*1e7,-tox*1e7,200)\n",
    "y_ox   = np.linspace(-tox*1e7,0,50)\n",
    "rho_ox = np.zeros_like(y_ox)\n",
    "\n",
    "rho_m  = np.zeros_like(y_m)\n",
    "y_si   = y\n",
    "rho_si = rho\n",
    "\n",
    "\n",
    "Elf_si = []\n",
    "\n",
    "for i in range(y_si.size):\n",
    "    Elf_si.append((1)/(es*e0)*simps(rho_si[0:i+1],y_si[0:i+1]*1e-7))\n",
    "\n",
    "# set the zero of electric field at the bulk\n",
    "\n",
    "Elf_si = Elf_si - Elf_si[-1]\n",
    "Elf_ox = Elf_si[0]*np.ones_like(y_ox)*(es)/(eox)\n",
    "Elf_m  = np.zeros_like(y_m)\n",
    "\n",
    "\n",
    "y   = np.hstack((y_m[:-1],y_ox[:-1],y_si))\n",
    "rho = np.hstack((rho_m[:-1],rho_ox[:-1],rho_si))\n",
    "\n",
    "Elf = np.hstack((Elf_m[:-1],Elf_ox[:-1],Elf_si))\n",
    "\n",
    "plt.figure(3)\n",
    "plt.title(\"Electric field profile\")\n",
    "plt.xlabel('x [nm]', fontsize=14)\n",
    "plt.ylabel('$E$ [V/cm]', fontsize=16)\n",
    "plt.grid(True)\n",
    "plt.plot(y, (Elf),'b', label='$\\\\rho/q$')\n",
    "\n",
    "# plot relevant x poxitions\n",
    "plt.axvline(x=-tox*1e7, color='r', linestyle='--')\n",
    "if xd != 0:\n",
    "    plt.axvline(x=xd*1e7, color='k', linestyle='--')\n",
    "else:\n",
    "    plt.axvline(x=LD*1e7, color='k', linestyle='--')\n",
    "plt.axvline(x=xdM*1e7, color='m', linestyle='--')\n",
    "ax = plt.gca()\n",
    "plt.text(-tox*1e7, -.05, '$-t_ox$', color='r', transform=ax.get_xaxis_transform(), ha='center', va='top')\n",
    "if xd != 0:\n",
    "    plt.text(xd*1e7, -.05, '$x_d$', color='k', transform=ax.get_xaxis_transform(), ha='right', va='top')\n",
    "else:\n",
    "    plt.text(LD*1e7, -.05, '$L_D$', color='k', transform=ax.get_xaxis_transform(), ha='left', va='top')\n",
    "plt.text(xdM*1e7, -.07, '$x_{d(max)}$', color='m', transform=ax.get_xaxis_transform(), ha='left', va='top')\n",
    "\n",
    "plt.show()\n",
    "\n",
    "plt.savefig(\"Images/Electric_field.pdf\")"
   ]
  },
  {
   "cell_type": "code",
   "execution_count": 7,
   "id": "c39b840d",
   "metadata": {},
   "outputs": [
    {
     "data": {
      "text/plain": [
       "39784.17843935505"
      ]
     },
     "execution_count": 7,
     "metadata": {},
     "output_type": "execute_result"
    }
   ],
   "source": [
    "Elf_si[0]"
   ]
  },
  {
   "cell_type": "markdown",
   "id": "572581d1",
   "metadata": {},
   "source": [
    "# Potential"
   ]
  },
  {
   "cell_type": "code",
   "execution_count": 8,
   "id": "a0d623e5",
   "metadata": {},
   "outputs": [
    {
     "data": {
      "image/png": "[encoded data removed]",
      "text/plain": [
       "<Figure size 576x360 with 1 Axes>"
      ]
     },
     "metadata": {
      "needs_background": "light"
     },
     "output_type": "display_data"
    },
    {
     "data": {
      "text/plain": [
       "<Figure size 576x360 with 0 Axes>"
      ]
     },
     "metadata": {},
     "output_type": "display_data"
    }
   ],
   "source": [
    "def moving_average(a, n=3) :\n",
    "    ret = np.cumsum(a, dtype=float)\n",
    "    ret[n:] = ret[n:] - ret[:-n]\n",
    "    return ret[n - 1:] / n\n",
    "\n",
    "V_tot = []\n",
    "\n",
    "for i in range(y.size):\n",
    "    V_tot.append(-1*simps(Elf[0:i+1],y[0:i+1]*1e-7))\n",
    "\n",
    "V_tot   = np.array(V_tot)\n",
    "V_totma = moving_average(V_tot,4) - V_tot[-1]\n",
    "y     = np.array(y)\n",
    "yma   = moving_average(y,4)\n",
    "    \n",
    "# interpolate results\n",
    "V_new = interp1d(yma, V_totma, kind='cubic')\n",
    "y_new = np.linspace(yma[0],yma[-1],y.size*10)\n",
    "\n",
    "plt.figure(3)\n",
    "plt.title(\"Potential profile\")\n",
    "plt.xlabel('x [nm]', fontsize=14)\n",
    "plt.ylabel('$Potential$ [V]', fontsize=16)\n",
    "plt.grid(True)\n",
    "tmp = plt.plot(y_new, (V_new(y_new)),'b')\n",
    "\n",
    "# plot relevant x poxitions\n",
    "plt.axvline(x=-tox*1e7, color='r', linestyle='--')\n",
    "if xd != 0:\n",
    "    plt.axvline(x=xd*1e7, color='k', linestyle='--')\n",
    "else:\n",
    "    plt.axvline(x=LD*1e7, color='k', linestyle='--')\n",
    "plt.axvline(x=xdM*1e7, color='m', linestyle='--')\n",
    "ax = plt.gca()\n",
    "plt.text(-tox*1e7, -.05, '$-t_ox$', color='r', transform=ax.get_xaxis_transform(), ha='center', va='top')\n",
    "if xd != 0:\n",
    "    plt.text(xd*1e7, -.05, '$x_d$', color='k', transform=ax.get_xaxis_transform(), ha='right', va='top')\n",
    "else:\n",
    "    plt.text(LD*1e7, -.05, '$L_D$', color='k', transform=ax.get_xaxis_transform(), ha='left', va='top')\n",
    "plt.text(xdM*1e7, -.07, '$x_{d(max)}$', color='m', transform=ax.get_xaxis_transform(), ha='left', va='top')\n",
    "\n",
    "plt.show()\n",
    "\n",
    "plt.savefig(\"Images/Potential.pdf\")"
   ]
  },
  {
   "cell_type": "code",
   "execution_count": 9,
   "id": "76ee284e",
   "metadata": {},
   "outputs": [
    {
     "name": "stdout",
     "output_type": "stream",
     "text": [
      "Delta V = 0.6611 V\n"
     ]
    }
   ],
   "source": [
    "DeltaV=V_tot[0]-V_tot[-1]\n",
    "print ('Delta V = %0.4g V'  % (DeltaV))"
   ]
  },
  {
   "cell_type": "markdown",
   "id": "39dd1d14",
   "metadata": {},
   "source": [
    "# Charge plots (\"Approx\")"
   ]
  },
  {
   "cell_type": "code",
   "execution_count": 10,
   "id": "9e61de82",
   "metadata": {},
   "outputs": [
    {
     "data": {
      "image/png": "[encoded data removed]",
      "text/plain": [
       "<Figure size 576x360 with 2 Axes>"
      ]
     },
     "metadata": {
      "needs_background": "light"
     },
     "output_type": "display_data"
    }
   ],
   "source": [
    "y_m_app     = y_m\n",
    "y_ox_app    = y_ox\n",
    "y_si_dr_app = np.linspace(0,xd*1e7,250)\n",
    "y_si_b_app  = np.linspace(xd*1e7,1.5*xdM*1e7,250)\n",
    "\n",
    "rho_m_app  = rho_m\n",
    "rho_ox_app = rho_ox\n",
    "rho_si_dr_app = q*(Nd-Na)*np.ones_like(y_si_dr_app)\n",
    "rho_si_b_app  = np.zeros_like(y_si_b_app)\n",
    "\n",
    "y_si_app   = np.hstack((y_si_dr_app[:-1],y_si_b_app))\n",
    "y_app      = np.hstack((y_m_app[:-1],y_ox_app[:-1],y_si_dr_app[:-1],y_si_b_app))\n",
    "rho_si_app = np.hstack((rho_si_dr_app[:-1], rho_si_b_app))\n",
    "rho_app    = np.hstack((rho_m[:-1],rho_ox[:-1],rho_si_dr_app[:-1], rho_si_b_app))\n",
    "\n",
    "y_comp     = y\n",
    "rho_comp   = np.hstack((rho_m[:-1],rho_ox[:-1],rho))\n",
    "\n",
    "plt.figure(3)\n",
    "plt.title(\"Charge density\")\n",
    "plt.xlabel('x [nm]', fontsize=14)\n",
    "plt.ylabel('$\\\\rho$ [C cm$^{-3}$]', fontsize=16)\n",
    "plt.grid(True)\n",
    "\n",
    "plt.plot(y_app, (rho_app),'b', label='$\\\\rho_{step}$')\n",
    "\n",
    "plt.plot(y_comp, (rho),'r', label='$\\\\rho_{comp}$')\n",
    "\n",
    "# plot relevant x poxitions\n",
    "plt.axvline(x=-tox*1e7, color='r', linestyle='--')\n",
    "if xd != 0:\n",
    "    plt.axvline(x=xd*1e7, color='k', linestyle='--')\n",
    "else:\n",
    "    plt.axvline(x=LD*1e7, color='k', linestyle='--')\n",
    "plt.axvline(x=xdM*1e7, color='m', linestyle='--')\n",
    "ax = plt.gca()\n",
    "plt.text(-tox*1e7, -.05, '$-t_ox$', color='r', transform=ax.get_xaxis_transform(), ha='center', va='top')\n",
    "if xd != 0:\n",
    "    plt.text(xd*1e7, -.05, '$x_d$', color='k', transform=ax.get_xaxis_transform(), ha='right', va='top')\n",
    "else:\n",
    "    plt.text(LD*1e7, -.05, '$L_D$', color='k', transform=ax.get_xaxis_transform(), ha='right', va='top')\n",
    "plt.text(xdM*1e7, -.07, '$x_{d(max)}$', color='m', transform=ax.get_xaxis_transform(), ha='left', va='top')\n",
    "\n",
    "plt.legend()\n",
    "\n",
    "ax2 = ax.twinx()  # instantiate a second axes that shares the same x-axis\n",
    "\n",
    "ax2.set_ylabel('[cm$^{-3}$]')  #\n",
    "ax2.plot(y_app, rho_app/q, alpha=0.0)\n",
    "ax2.tick_params(axis='y')\n",
    "\n",
    "plt.savefig(\"Images/Charge_density_app.pdf\")"
   ]
  },
  {
   "cell_type": "markdown",
   "id": "47cf97a3",
   "metadata": {},
   "source": [
    "# Electric field (\"Approx\")"
   ]
  },
  {
   "cell_type": "code",
   "execution_count": 11,
   "id": "966cb43b",
   "metadata": {},
   "outputs": [
    {
     "data": {
      "image/png": "[encoded data removed]",
      "text/plain": [
       "<Figure size 576x360 with 1 Axes>"
      ]
     },
     "metadata": {
      "needs_background": "light"
     },
     "output_type": "display_data"
    }
   ],
   "source": [
    "Elf_si_app = []\n",
    "\n",
    "for i in range(y_si_app.size):\n",
    "    Elf_si_app.append((1)/(es*e0)*simps(rho_si_app[0:i+1],y_si_app[0:i+1]*1e-7))\n",
    "\n",
    "# set the zero of electric field at the bulk\n",
    "\n",
    "Elf_si_app = Elf_si_app - Elf_si_app[-1]\n",
    "Elf_ox_app = Elf_si_app[0]*np.ones_like(y_ox_app)*(es)/(eox)\n",
    "Elf_m_app  = np.zeros_like(y_m_app)\n",
    "\n",
    "Elf_app = np.hstack((Elf_m_app[:-1],Elf_ox_app[:-1],Elf_si_app))\n",
    "\n",
    "plt.figure(1)\n",
    "plt.title(\"Electric field\")\n",
    "plt.xlabel('x [nm]')\n",
    "plt.ylabel('$E$ [V/cm]')\n",
    "plt.grid(True)\n",
    "\n",
    "plt.plot(y_app, (Elf_app),'b', label='$E_{step}$')\n",
    "\n",
    "plt.plot(y, (Elf),'r', label='$E_{comp}$')\n",
    "\n",
    "\n",
    "# plot relevant x poxitions\n",
    "plt.axvline(x=-tox*1e7, color='r', linestyle='--')\n",
    "if xd != 0:\n",
    "    plt.axvline(x=xd*1e7, color='k', linestyle='--')\n",
    "else:\n",
    "    plt.axvline(x=LD*1e7, color='k', linestyle='--')\n",
    "plt.axvline(x=xdM*1e7, color='m', linestyle='--')\n",
    "ax = plt.gca()\n",
    "plt.text(-tox*1e7, -.05, '$-t_ox$', color='r', transform=ax.get_xaxis_transform(), ha='center', va='top')\n",
    "if xd != 0:\n",
    "    plt.text(xd*1e7, -.05, '$x_d$', color='k', transform=ax.get_xaxis_transform(), ha='right', va='top')\n",
    "else:\n",
    "    plt.text(LD*1e7, -.05, '$L_D$', color='k', transform=ax.get_xaxis_transform(), ha='right', va='top')\n",
    "plt.text(xdM*1e7, -.07, '$x_{d(max)}$', color='m', transform=ax.get_xaxis_transform(), ha='left', va='top')\n",
    "\n",
    "plt.legend()\n",
    "\n",
    "plt.savefig(\"Images/Electric_field_app.pdf\")"
   ]
  },
  {
   "cell_type": "code",
   "execution_count": 12,
   "id": "2ff232d4",
   "metadata": {},
   "outputs": [
    {
     "data": {
      "text/plain": [
       "122085.57998561837"
      ]
     },
     "execution_count": 12,
     "metadata": {},
     "output_type": "execute_result"
    }
   ],
   "source": [
    "Elf_ox_app[0]"
   ]
  },
  {
   "cell_type": "markdown",
   "id": "b83d429c",
   "metadata": {},
   "source": [
    "# Potential (\"Approx\")"
   ]
  },
  {
   "cell_type": "code",
   "execution_count": 13,
   "id": "4828ca6f",
   "metadata": {},
   "outputs": [
    {
     "data": {
      "image/png": "[encoded data removed]",
      "text/plain": [
       "<Figure size 576x360 with 1 Axes>"
      ]
     },
     "metadata": {
      "needs_background": "light"
     },
     "output_type": "display_data"
    }
   ],
   "source": [
    "V_app_tot = []\n",
    "\n",
    "for i in range(y_app.size):\n",
    "    V_app_tot.append(-1*simps(Elf_app[0:i+1],y_app[0:i+1]*1e-7))\n",
    "\n",
    "V_app_tot = V_app_tot -V_app_tot[-1]\n",
    "    \n",
    "# interpolate results\n",
    "V_app_new = interp1d(y_app, V_app_tot, kind='cubic')\n",
    "y_app_new = np.linspace(y_app[0],y_app[-1],y_app.size*10)\n",
    "\n",
    "plt.figure(3)\n",
    "plt.title(\"Potential\")\n",
    "plt.xlabel('x [nm]', fontsize=14)\n",
    "plt.ylabel('$Potential$ [V]', fontsize=16)\n",
    "plt.grid(True)\n",
    "\n",
    "plt.plot(y_app_new, (V_app_new(y_app_new)),'b', label='$V_{step}$')\n",
    "\n",
    "plt.plot(y_new, (V_new(y_new)),'r', label='$V_{comp}$')\n",
    "\n",
    "# plot relevant x poxitions\n",
    "plt.axvline(x=-tox*1e7, color='r', linestyle='--')\n",
    "plt.axvline(x=xd*1e7, color='k', linestyle='--')\n",
    "plt.axvline(x=xdM*1e7, color='m', linestyle='--')\n",
    "ax = plt.gca()\n",
    "plt.text(-tox*1e7, -.05, '$-t_ox$', color='r', transform=ax.get_xaxis_transform(), ha='center', va='top')\n",
    "plt.text(xd*1e7, -.05, '$x_d$', color='k', transform=ax.get_xaxis_transform(), ha='right', va='top')\n",
    "plt.text(xdM*1e7, -.07, '$x_{d(max)}$', color='m', transform=ax.get_xaxis_transform(), ha='left', va='top')\n",
    "\n",
    "plt.axhline(y=psis, color='g', linestyle='--')\n",
    "ax.text(-0.11, psis, '$V_{smc}$', color='g', transform=ax.get_yaxis_transform(), ha='left', va='center')\n",
    "         \n",
    "plt.legend()\n",
    "\n",
    "\n",
    "plt.savefig(\"Images/Potential_app.pdf\")"
   ]
  },
  {
   "cell_type": "code",
   "execution_count": 14,
   "id": "14995cd8",
   "metadata": {},
   "outputs": [
    {
     "name": "stdout",
     "output_type": "stream",
     "text": [
      "Delta V = 0.6621 V\n"
     ]
    }
   ],
   "source": [
    "DeltaV_app=V_app_tot[0]-V_app_tot[-1]\n",
    "print ('Delta V = %0.4g V'  % (DeltaV_app))"
   ]
  },
  {
   "cell_type": "code",
   "execution_count": null,
   "id": "eccd672a",
   "metadata": {},
   "outputs": [],
   "source": []
  }
 ],
 "metadata": {
  "kernelspec": {
   "display_name": "Python 3",
   "language": "python",
   "name": "python3"
  },
  "language_info": {
   "codemirror_mode": {
    "name": "ipython",
    "version": 3
   },
   "file_extension": ".py",
   "mimetype": "text/x-python",
   "name": "python",
   "nbconvert_exporter": "python",
   "pygments_lexer": "ipython3",
   "version": "3.9.4"
  }
 },
 "nbformat": 4,
 "nbformat_minor": 5
}
